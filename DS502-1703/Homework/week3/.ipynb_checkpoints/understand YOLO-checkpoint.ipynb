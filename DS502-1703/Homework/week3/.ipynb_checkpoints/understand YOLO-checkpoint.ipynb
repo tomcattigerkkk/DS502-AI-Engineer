{
 "cells": [
  {
   "cell_type": "code",
   "execution_count": 1,
   "metadata": {
    "collapsed": true
   },
   "outputs": [],
   "source": [
    "import numpy as np "
   ]
  },
  {
   "cell_type": "code",
   "execution_count": 2,
   "metadata": {},
   "outputs": [
    {
     "ename": "SyntaxError",
     "evalue": "invalid syntax (<ipython-input-2-7dd745454e35>, line 8)",
     "output_type": "error",
     "traceback": [
      "\u001b[0;36m  File \u001b[0;32m\"<ipython-input-2-7dd745454e35>\"\u001b[0;36m, line \u001b[0;32m8\u001b[0m\n\u001b[0;31m    0< cls <1->prob\u001b[0m\n\u001b[0m              ^\u001b[0m\n\u001b[0;31mSyntaxError\u001b[0m\u001b[0;31m:\u001b[0m invalid syntax\n"
     ]
    }
   ],
   "source": [
    "# 1 of 20: cat, dog, bike, bus .... \n",
    "# vec 30\n",
    "out = np.random.rand(7,7,30)\n",
    "i=5\n",
    "j=0\n",
    "one = out[i,j,:]\n",
    "cls = one[11:30] # 1 hot of 20 possible classes\n",
    "0< cls <1->prob\n",
    "\n",
    "box1 = one[0:5]-> c(object),x,y,w,h\n",
    "\n",
    "box2 = one[5:10]\n",
    "\n",
    "info we need-> centerx, centery, width, height \n",
    "centerx = which i, and which j , 0<x<1\n",
    "\n",
    "x/grid_size(16)\n",
    "mean(0.5) var\n",
    "c(0.5)\n",
    "w_real = 50 \n",
    "h_real = 100\n",
    "img_size = 448\n",
    "w = w_real/img_size\n",
    "h\n",
    "\n",
    "\n",
    "out.shape = (7,7,5)->c, x,y,w,h\n",
    "there is a cat if c==1, no cat if c==0, # of clase is 1, use either 0 or 1 to identify if there is a cat \n",
    "\n",
    "\n",
    "i ,j , x ,h ->cx ,cy \n",
    "\n",
    "cx = i*dscale(2**how many stride==2)+x*dscale\n",
    "cy = j*dscale(2**how many stride==2)+y*dscale"
   ]
  },
  {
   "cell_type": "code",
   "execution_count": 3,
   "metadata": {
    "collapsed": true
   },
   "outputs": [],
   "source": [
    "import mxnet as mx \n",
    "from symbol import get_resnet_model\n",
    "import numpy as np\n",
    "from data_ulti import get_iterator\n",
    "\n",
    "import logging\n",
    "import sys\n",
    "\n",
    "import time\n",
    "from metric import LogMetricsCallback, LossMetric\n",
    "root_logger = logging.getLogger()\n",
    "stdout_handler = logging.StreamHandler(sys.stdout)\n",
    "root_logger.addHandler(stdout_handler)\n",
    "root_logger.setLevel(logging.DEBUG)\n"
   ]
  },
  {
   "cell_type": "code",
   "execution_count": 5,
   "metadata": {},
   "outputs": [],
   "source": [
    "sym = get_resnet_model('pretrained_models/resnet-34', 0)"
   ]
  },
  {
   "cell_type": "code",
   "execution_count": null,
   "metadata": {
    "collapsed": true
   },
   "outputs": [],
   "source": [
    "mx.viz.plot."
   ]
  }
 ],
 "metadata": {
  "kernelspec": {
   "display_name": "tensorflow",
   "language": "python",
   "name": "python3"
  },
  "language_info": {
   "codemirror_mode": {
    "name": "ipython",
    "version": 3
   },
   "file_extension": ".py",
   "mimetype": "text/x-python",
   "name": "python",
   "nbconvert_exporter": "python",
   "pygments_lexer": "ipython3",
   "version": "3.6.2"
  }
 },
 "nbformat": 4,
 "nbformat_minor": 2
}
