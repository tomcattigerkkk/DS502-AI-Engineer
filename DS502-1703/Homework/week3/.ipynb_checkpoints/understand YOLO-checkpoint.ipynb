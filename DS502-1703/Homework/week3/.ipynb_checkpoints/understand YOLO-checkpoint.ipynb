{
 "cells": [
  {
   "cell_type": "code",
   "execution_count": 2,
   "metadata": {},
   "outputs": [
    {
     "ename": "SyntaxError",
     "evalue": "invalid syntax (<ipython-input-2-7dd745454e35>, line 8)",
     "output_type": "error",
     "traceback": [
      "\u001b[0;36m  File \u001b[0;32m\"<ipython-input-2-7dd745454e35>\"\u001b[0;36m, line \u001b[0;32m8\u001b[0m\n\u001b[0;31m    0< cls <1->prob\u001b[0m\n\u001b[0m              ^\u001b[0m\n\u001b[0;31mSyntaxError\u001b[0m\u001b[0;31m:\u001b[0m invalid syntax\n"
     ]
    }
   ],
   "source": [
    "# 1 of 20: cat, dog, bike, bus .... \n",
    "# vec 30\n",
    "out = np.random.rand(7,7,30)\n",
    "i=5\n",
    "j=0\n",
    "one = out[i,j,:]\n",
    "cls = one[11:30] # 1 hot of 20 possible classes\n",
    "# 0< cls <1->prob\n",
    "\n",
    "box1 = one[0:5]  #-> c(object),x,y,w,h\n",
    "\n",
    "box2 = one[5:10]\n",
    "\n",
    "# info we need-> centerx, centery, width, height \n",
    "# centerx = which i, and which j , 0<x<1\n",
    "\n",
    "x/grid_size(16)\n",
    "mean(0.5) var\n",
    "c(0.5)\n",
    "w_real = 50 \n",
    "h_real = 100\n",
    "img_size = 448\n",
    "w = w_real/img_size\n",
    "h\n",
    "\n",
    "\n",
    "out.shape = (7,7,5)->c, x,y,w,h\n",
    "there is a cat if c==1, no cat if c==0, # of clase is 1, use either 0 or 1 to identify if there is a cat \n",
    "\n",
    "\n",
    "i ,j , x ,h ->cx ,cy \n",
    "\n",
    "cx = i*dscale(2**how many stride==2)+x*dscale\n",
    "cy = j*dscale(2**how many stride==2)+y*dscale"
   ]
  },
  {
   "cell_type": "code",
   "execution_count": 10,
   "metadata": {
    "collapsed": true
   },
   "outputs": [],
   "source": [
    "import numpy as np "
   ]
  },
  {
   "cell_type": "code",
   "execution_count": 11,
   "metadata": {
    "collapsed": true
   },
   "outputs": [],
   "source": [
    "import mxnet as mx \n",
    "from symbol import get_resnet_model\n",
    "import numpy as np\n",
    "from data_ulti import get_iterator\n",
    "\n",
    "import logging\n",
    "import sys\n",
    "\n",
    "import time\n",
    "from metric import LogMetricsCallback, LossMetric\n",
    "root_logger = logging.getLogger()\n",
    "stdout_handler = logging.StreamHandler(sys.stdout)\n",
    "root_logger.addHandler(stdout_handler)\n",
    "root_logger.setLevel(logging.DEBUG)\n"
   ]
  },
  {
   "cell_type": "code",
   "execution_count": 12,
   "metadata": {
    "collapsed": true
   },
   "outputs": [],
   "source": [
    "sym = get_resnet_model('pretrained_models/resnet-34', 0)\n",
    "sym = sym.get_internals()['bn1_output']\n",
    "# append two layers\n",
    "sym = mx.sym.Activation(data=sym, act_type=\"relu\")\n",
    "sym = mx.sym.Convolution(data=sym, kernel=(3, 3),\n",
    "                             num_filter=5, pad=(1, 1),\n",
    "                             stride=(1, 1), no_bias=True,\n",
    "                             )\n",
    "# get softsign\n",
    "sym = sym / (1 + mx.sym.abs(sym))\n",
    "logit = mx.sym.transpose(sym, axes=(0, 2, 3, 1), name=\"logit\") # (-1, 7, 7, 5(c,x,y,w,h))"
   ]
  },
  {
   "cell_type": "code",
   "execution_count": 13,
   "metadata": {
    "collapsed": true
   },
   "outputs": [],
   "source": [
    "from symbol import YOLO_loss\n"
   ]
  },
  {
   "cell_type": "code",
   "execution_count": 14,
   "metadata": {},
   "outputs": [
    {
     "ename": "ImportError",
     "evalue": "Draw network requires graphviz library",
     "output_type": "error",
     "traceback": [
      "\u001b[1;31m---------------------------------------------------------------------------\u001b[0m",
      "\u001b[1;31mImportError\u001b[0m                               Traceback (most recent call last)",
      "\u001b[1;32m~\\Anaconda3\\envs\\mxnet\\lib\\site-packages\\mxnet\\visualization.py\u001b[0m in \u001b[0;36mplot_network\u001b[1;34m(symbol, title, save_format, shape, node_attrs, hide_weights)\u001b[0m\n\u001b[0;32m    235\u001b[0m     \u001b[1;32mtry\u001b[0m\u001b[1;33m:\u001b[0m\u001b[1;33m\u001b[0m\u001b[0m\n\u001b[1;32m--> 236\u001b[1;33m         \u001b[1;32mfrom\u001b[0m \u001b[0mgraphviz\u001b[0m \u001b[1;32mimport\u001b[0m \u001b[0mDigraph\u001b[0m\u001b[1;33m\u001b[0m\u001b[0m\n\u001b[0m\u001b[0;32m    237\u001b[0m     \u001b[1;32mexcept\u001b[0m\u001b[1;33m:\u001b[0m\u001b[1;33m\u001b[0m\u001b[0m\n",
      "\u001b[1;31mImportError\u001b[0m: No module named 'graphviz'",
      "\nDuring handling of the above exception, another exception occurred:\n",
      "\u001b[1;31mImportError\u001b[0m                               Traceback (most recent call last)",
      "\u001b[1;32m<ipython-input-14-4badfe24651c>\u001b[0m in \u001b[0;36m<module>\u001b[1;34m()\u001b[0m\n\u001b[1;32m----> 1\u001b[1;33m \u001b[0mmx\u001b[0m\u001b[1;33m.\u001b[0m\u001b[0mviz\u001b[0m\u001b[1;33m.\u001b[0m\u001b[0mplot_network\u001b[0m\u001b[1;33m(\u001b[0m\u001b[0msym\u001b[0m\u001b[1;33m)\u001b[0m\u001b[1;33m\u001b[0m\u001b[0m\n\u001b[0m",
      "\u001b[1;32m~\\Anaconda3\\envs\\mxnet\\lib\\site-packages\\mxnet\\visualization.py\u001b[0m in \u001b[0;36mplot_network\u001b[1;34m(symbol, title, save_format, shape, node_attrs, hide_weights)\u001b[0m\n\u001b[0;32m    236\u001b[0m         \u001b[1;32mfrom\u001b[0m \u001b[0mgraphviz\u001b[0m \u001b[1;32mimport\u001b[0m \u001b[0mDigraph\u001b[0m\u001b[1;33m\u001b[0m\u001b[0m\n\u001b[0;32m    237\u001b[0m     \u001b[1;32mexcept\u001b[0m\u001b[1;33m:\u001b[0m\u001b[1;33m\u001b[0m\u001b[0m\n\u001b[1;32m--> 238\u001b[1;33m         \u001b[1;32mraise\u001b[0m \u001b[0mImportError\u001b[0m\u001b[1;33m(\u001b[0m\u001b[1;34m\"Draw network requires graphviz library\"\u001b[0m\u001b[1;33m)\u001b[0m\u001b[1;33m\u001b[0m\u001b[0m\n\u001b[0m\u001b[0;32m    239\u001b[0m     \u001b[1;32mif\u001b[0m \u001b[1;32mnot\u001b[0m \u001b[0misinstance\u001b[0m\u001b[1;33m(\u001b[0m\u001b[0msymbol\u001b[0m\u001b[1;33m,\u001b[0m \u001b[0mSymbol\u001b[0m\u001b[1;33m)\u001b[0m\u001b[1;33m:\u001b[0m\u001b[1;33m\u001b[0m\u001b[0m\n\u001b[0;32m    240\u001b[0m         \u001b[1;32mraise\u001b[0m \u001b[0mTypeError\u001b[0m\u001b[1;33m(\u001b[0m\u001b[1;34m\"symbol must be a Symbol\"\u001b[0m\u001b[1;33m)\u001b[0m\u001b[1;33m\u001b[0m\u001b[0m\n",
      "\u001b[1;31mImportError\u001b[0m: Draw network requires graphviz library"
     ]
    }
   ],
   "source": [
    "mx.viz.plot_network(sym)"
   ]
  },
  {
   "cell_type": "code",
   "execution_count": 15,
   "metadata": {},
   "outputs": [
    {
     "data": {
      "text/plain": [
       "['Symbol',\n",
       " '__builtins__',\n",
       " '__cached__',\n",
       " '__doc__',\n",
       " '__file__',\n",
       " '__loader__',\n",
       " '__name__',\n",
       " '__package__',\n",
       " '__spec__',\n",
       " '_str2tuple',\n",
       " 'absolute_import',\n",
       " 'copy',\n",
       " 'json',\n",
       " 'plot_network',\n",
       " 'print_summary',\n",
       " 're']"
      ]
     },
     "execution_count": 15,
     "metadata": {},
     "output_type": "execute_result"
    }
   ],
   "source": [
    "dir(mx.viz)"
   ]
  },
  {
   "cell_type": "code",
   "execution_count": null,
   "metadata": {
    "collapsed": true
   },
   "outputs": [],
   "source": []
  }
 ],
 "metadata": {
  "kernelspec": {
   "display_name": "Python 3",
   "language": "python",
   "name": "python3"
  },
  "language_info": {
   "codemirror_mode": {
    "name": "ipython",
    "version": 3
   },
   "file_extension": ".py",
   "mimetype": "text/x-python",
   "name": "python",
   "nbconvert_exporter": "python",
   "pygments_lexer": "ipython3",
   "version": "3.5.4"
  }
 },
 "nbformat": 4,
 "nbformat_minor": 2
}
