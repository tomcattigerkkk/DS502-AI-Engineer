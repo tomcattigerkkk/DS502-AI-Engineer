{
 "cells": [
  {
   "cell_type": "code",
   "execution_count": 1,
   "metadata": {},
   "outputs": [
    {
     "ename": "ImportError",
     "evalue": "No module named 'mxnet'",
     "output_type": "error",
     "traceback": [
      "\u001b[1;31m---------------------------------------------------------------------------\u001b[0m",
      "\u001b[1;31mImportError\u001b[0m                               Traceback (most recent call last)",
      "\u001b[1;32m<ipython-input-1-1f38faa213b2>\u001b[0m in \u001b[0;36m<module>\u001b[1;34m()\u001b[0m\n\u001b[1;32m----> 1\u001b[1;33m \u001b[1;32mimport\u001b[0m \u001b[0mmxnet\u001b[0m \u001b[1;32mas\u001b[0m \u001b[0mmx\u001b[0m\u001b[1;33m\u001b[0m\u001b[0m\n\u001b[0m\u001b[0;32m      2\u001b[0m \u001b[1;32mfrom\u001b[0m \u001b[0mimportlib\u001b[0m \u001b[1;32mimport\u001b[0m \u001b[0mimport_module\u001b[0m\u001b[1;33m\u001b[0m\u001b[0m\n\u001b[0;32m      3\u001b[0m \u001b[1;32mimport\u001b[0m \u001b[0mcv2\u001b[0m\u001b[1;33m\u001b[0m\u001b[0m\n\u001b[0;32m      4\u001b[0m \u001b[1;32mimport\u001b[0m \u001b[0mmatplotlib\u001b[0m\u001b[1;33m.\u001b[0m\u001b[0mpyplot\u001b[0m \u001b[1;32mas\u001b[0m \u001b[0mplt\u001b[0m\u001b[1;33m\u001b[0m\u001b[0m\n\u001b[0;32m      5\u001b[0m \u001b[1;32mimport\u001b[0m \u001b[0mnumpy\u001b[0m \u001b[1;32mas\u001b[0m \u001b[0mnp\u001b[0m\u001b[1;33m\u001b[0m\u001b[0m\n",
      "\u001b[1;31mImportError\u001b[0m: No module named 'mxnet'"
     ]
    }
   ],
   "source": [
    "import mxnet as mx \n",
    "from importlib import import_module\n",
    "import cv2\n",
    "import matplotlib.pyplot as plt \n",
    "import numpy as np "
   ]
  },
  {
   "cell_type": "code",
   "execution_count": 2,
   "metadata": {},
   "outputs": [
    {
     "name": "stdout",
     "output_type": "stream",
     "text": [
      "<mxnet.io.MXDataIter object at 0x7f258fceaeb8> <mxnet.io.MXDataIter object at 0x7f258fcf0048>\n",
      "image size <mxnet.io.MXDataIter object at 0x7f258fceaeb8>\n",
      "<class 'numpy.ndarray'>\n",
      "<class 'numpy.ndarray'>\n"
     ]
    },
    {
     "data": {
      "image/png": "[encoded data removed]",
      "text/plain": [
       "<matplotlib.figure.Figure at 0x7f258fcf01d0>"
      ]
     },
     "metadata": {},
     "output_type": "display_data"
    }
   ],
   "source": [
    "# 1. data reading\n",
    "# labels in order: \n",
    "\"\"\"\n",
    "0 airplane\n",
    "1 automobile\n",
    "2 bird\n",
    "3 cat\n",
    "4 deer\n",
    "5 dog\n",
    "6 frog\n",
    "7 horse\n",
    "8 ship\n",
    "9 truck\n",
    "\"\"\"\n",
    "\n",
    "def get_cifar10():\n",
    "    # TODO fill all the blanks \n",
    "    # Hint\n",
    "    # rgb mean default: '123.68,116.779,103.939',   because we need to normalize the data \n",
    "    # pad size: whatever you think is valid, pad to 32 is good \n",
    "    # image shape:  the image shape feed into the network, e.g. (3,224,224)')\n",
    "    # num-classes: the number of classes\n",
    "    # num-examples:  the number of training examples, 50000 :)\n",
    "    # data-nthreads: default=4,number of threads for data decoding, how many cpus do you have\n",
    "    # dtype: default is float32, can be data type: float32 or float16')\n",
    "    train = mx.io.ImageRecordIter(\n",
    "            path_imgrec         = './cifar10_train.rec',\n",
    "            label_width         = 1,\n",
    "            mean_r              = 123.68,\n",
    "            mean_g              = 116.779,\n",
    "            mean_b              = 103.939,\n",
    "            data_name           = 'data',\n",
    "            label_name          = 'softmax_label',\n",
    "            data_shape          = (3,28,28),\n",
    "            batch_size          = 128,\n",
    "            pad                 = 0,  \n",
    "            fill_value          = 127, # default 255\n",
    "            preprocess_threads  = 8,  # how many threads are used for pre_process\n",
    "            shuffle             = True)\n",
    "    val = mx.io.ImageRecordIter(\n",
    "            path_imgrec         = './cifar10_val.rec',\n",
    "            label_width         = 1,\n",
    "            mean_r              = 123.68,\n",
    "            mean_g              = 116.779,\n",
    "            mean_b              = 103.939,\n",
    "            data_name           = 'data',\n",
    "            label_name          = 'softmax_label',\n",
    "            data_shape          = (3, 28, 28),\n",
    "            batch_size          = 128,\n",
    "            pad                 = 0,\n",
    "            fill_value          = 127,\n",
    "            preprocess_threads  = 8,\n",
    "            shuffle             = False)   #for training \n",
    "    return train, val\n",
    "\n",
    "train, val = get_cifar10()\n",
    "# TODO write the script to look what is inside train and val\n",
    "# Check the image size, and label \n",
    "# Display the image \n",
    "# Question? check MXNET_course/mxnet-week3/cifar10/step_by_step_debug.ipynb\n",
    "print (train, val)\n",
    "print('image size {}'.format(train))\n",
    "\n",
    "i = 0\n",
    "\n",
    "# read first image\n",
    "batch_numpy = train.next().data[0].asnumpy()\n",
    "label_numpy = train.next().label[0].asnumpy()\n",
    "print (type(batch_numpy))\n",
    "print (type(label_numpy))\n",
    "\n",
    "#show img\n",
    "randidx = np.random.randint(0,128)\n",
    "img = batch_numpy[randidx]\n",
    "img = np.squeeze(img).sum(axis=0)\n",
    "plt.imshow(img, cmap='gray')\n",
    "plt.show()"
   ]
  },
  {
   "cell_type": "code",
   "execution_count": 9,
   "metadata": {
    "scrolled": false
   },
   "outputs": [
    {
     "name": "stdout",
     "output_type": "stream",
     "text": [
      "['data', 'bn_data_gamma', 'bn_data_beta', 'conv0_weight', 'stage1_unit1_bn1_gamma', 'stage1_unit1_bn1_beta', 'stage1_unit1_conv1_weight', 'stage1_unit1_bn2_gamma', 'stage1_unit1_bn2_beta', 'stage1_unit1_conv2_weight', 'stage1_unit1_sc_weight', 'stage1_unit2_bn1_gamma', 'stage1_unit2_bn1_beta', 'stage1_unit2_conv1_weight', 'stage1_unit2_bn2_gamma', 'stage1_unit2_bn2_beta', 'stage1_unit2_conv2_weight', 'stage1_unit3_bn1_gamma', 'stage1_unit3_bn1_beta', 'stage1_unit3_conv1_weight', 'stage1_unit3_bn2_gamma', 'stage1_unit3_bn2_beta', 'stage1_unit3_conv2_weight', 'stage2_unit1_bn1_gamma', 'stage2_unit1_bn1_beta', 'stage2_unit1_conv1_weight', 'stage2_unit1_bn2_gamma', 'stage2_unit1_bn2_beta', 'stage2_unit1_conv2_weight', 'stage2_unit1_sc_weight', 'stage2_unit2_bn1_gamma', 'stage2_unit2_bn1_beta', 'stage2_unit2_conv1_weight', 'stage2_unit2_bn2_gamma', 'stage2_unit2_bn2_beta', 'stage2_unit2_conv2_weight', 'stage2_unit3_bn1_gamma', 'stage2_unit3_bn1_beta', 'stage2_unit3_conv1_weight', 'stage2_unit3_bn2_gamma', 'stage2_unit3_bn2_beta', 'stage2_unit3_conv2_weight', 'stage3_unit1_bn1_gamma', 'stage3_unit1_bn1_beta', 'stage3_unit1_conv1_weight', 'stage3_unit1_bn2_gamma', 'stage3_unit1_bn2_beta', 'stage3_unit1_conv2_weight', 'stage3_unit1_sc_weight', 'stage3_unit2_bn1_gamma', 'stage3_unit2_bn1_beta', 'stage3_unit2_conv1_weight', 'stage3_unit2_bn2_gamma', 'stage3_unit2_bn2_beta', 'stage3_unit2_conv2_weight', 'stage3_unit3_bn1_gamma', 'stage3_unit3_bn1_beta', 'stage3_unit3_conv1_weight', 'stage3_unit3_bn2_gamma', 'stage3_unit3_bn2_beta', 'stage3_unit3_conv2_weight', 'bn1_gamma', 'bn1_beta', 'fc1_weight', 'fc1_bias', 'softmax_label']\n",
      "['softmax_output']\n"
     ]
    }
   ],
   "source": [
    "# 2 model getting \n",
    "# TODO read through resnet.py file for understanding\n",
    "def get_resnet():\n",
    "    net = import_module('resnet')\n",
    "    sym = net.get_symbol(10,20,\"3,28,28\")\n",
    "    return sym \n",
    "sym = get_resnet()\n",
    "\n",
    "# TODO \n",
    "# 1. Plot and visualize the network. Put your comments about its architecture (why bottlenet)\n",
    "# 2. List all weight and output (Question? check MXNET_course/mxnet-week3/cifar10/step_by_step_debug.ipynb)\n",
    "# Hint: check mx.viz.plot\n",
    "\n",
    "# visualize the network\n",
    "plot = mx.viz.plot_network(sym, title=\"model_network\", save_format='pdf', hide_weights=True)\n",
    "plot.render(\"Model_Network\")\n",
    "# list all weight and output\n",
    "arg_name = sym.list_arguments()\n",
    "out_name = sym.list_outputs()\n",
    "print (arg_name)\n",
    "print (out_name)"
   ]
  },
  {
   "cell_type": "code",
   "execution_count": 18,
   "metadata": {
    "scrolled": false
   },
   "outputs": [
    {
     "ename": "AttributeError",
     "evalue": "'NoneType' object has no attribute 'shape'",
     "output_type": "error",
     "traceback": [
      "\u001b[0;31m---------------------------------------------------------------------------\u001b[0m",
      "\u001b[0;31mAttributeError\u001b[0m                            Traceback (most recent call last)",
      "\u001b[0;32m<ipython-input-18-9a06f5de670d>\u001b[0m in \u001b[0;36m<module>\u001b[0;34m()\u001b[0m\n\u001b[1;32m      1\u001b[0m \u001b[0;31m# 3 sanity check random image inference\u001b[0m\u001b[0;34m\u001b[0m\u001b[0;34m\u001b[0m\u001b[0m\n\u001b[1;32m      2\u001b[0m \u001b[0mimg1\u001b[0m \u001b[0;34m=\u001b[0m \u001b[0mcv2\u001b[0m\u001b[0;34m.\u001b[0m\u001b[0mimread\u001b[0m\u001b[0;34m(\u001b[0m\u001b[0;34m\"frog.jpg\"\u001b[0m\u001b[0;34m)\u001b[0m\u001b[0;34m\u001b[0m\u001b[0m\n\u001b[0;32m----> 3\u001b[0;31m \u001b[0mprint\u001b[0m\u001b[0;34m(\u001b[0m\u001b[0mimg1\u001b[0m\u001b[0;34m.\u001b[0m\u001b[0mshape\u001b[0m\u001b[0;34m)\u001b[0m\u001b[0;34m\u001b[0m\u001b[0m\n\u001b[0m\u001b[1;32m      4\u001b[0m \u001b[0mimg1\u001b[0m \u001b[0;34m=\u001b[0m \u001b[0mcv2\u001b[0m\u001b[0;34m.\u001b[0m\u001b[0mresize\u001b[0m\u001b[0;34m(\u001b[0m\u001b[0mimg1\u001b[0m\u001b[0;34m,\u001b[0m\u001b[0;34m(\u001b[0m\u001b[0;36m32\u001b[0m\u001b[0;34m,\u001b[0m\u001b[0;36m32\u001b[0m\u001b[0;34m)\u001b[0m\u001b[0;34m)\u001b[0m\u001b[0;31m# you need to pad it if you do padding for you nework\u001b[0m\u001b[0;34m\u001b[0m\u001b[0m\n\u001b[1;32m      5\u001b[0m \u001b[0mplt\u001b[0m\u001b[0;34m.\u001b[0m\u001b[0mimshow\u001b[0m\u001b[0;34m(\u001b[0m\u001b[0mimg1\u001b[0m\u001b[0;34m)\u001b[0m\u001b[0;34m\u001b[0m\u001b[0m\n",
      "\u001b[0;31mAttributeError\u001b[0m: 'NoneType' object has no attribute 'shape'"
     ]
    }
   ],
   "source": [
    "# 3 sanity check random image inference\n",
    "img1 = cv2.imread(\"frog.jpg\")\n",
    "print(img1.shape)\n",
    "img1 = cv2.resize(img1,(32,32))# you need to pad it if you do padding for you nework\n",
    "plt.imshow(img1)\n",
    "plt.show()\n",
    "print( type(img1))\n",
    "img1 = img1.transpose((2,0,1)).reshape((1,3,28,28))\n",
    "print (img1.shape)\n",
    "\n",
    "img2 = cv2.imread(\"frog2.jpg\")\n",
    "img2 = cv2.resize(img2,(28,28))# you need to pad it if you do padding for you nework\n",
    "plt.imshow(img2)\n",
    "plt.show()\n",
    "print (type(img2))\n",
    "img2 = img2.transpose((2,0,1)).reshape((1,3,28,28))\n",
    "print (img2.shape)\n",
    "\n",
    "img = np.vstack([img1,img2])\n",
    "print (\"The very small training dataset contain: \", img.shape)\n",
    "\n",
    "# TODO: figure out how to convert numpy array to mx.nd.array\n",
    "img_mxnd = mx.nd.array(img, ctx=mx.gpu()) \n",
    "label_mxnd = mx.nd.array(6, ctx=gpu()) # 6 is frog, give 6 as label\n",
    "img_itr = mx.io.NDArrayIter(data=img_mxnd, data_name='data', \n",
    "                            label_name='softmax_label', label=label_mxnd, \n",
    "                            batch_size=sizeof(data)) # ??? Hint the name should \"data\" and softmax_label\n",
    "print( \"small dataset is: \", type(img_itr))\n",
    "for each in img_itr:\n",
    "    print( each)\n",
    "\n",
    "# TODO bind the random img to network \n",
    "# question? check mxnet-week3/cifar10/train_cifar10.py\n",
    "mod = mx.mod.Module(context=[mx.gpu()],\n",
    "                   symbol=sym,\n",
    "                   data_names=['data'],\n",
    "                   label_names=['softmax_label']) \n",
    "mod.bind(train.provide_data, train.provide_label)\n",
    "mod.init_params(mx.init.Xavier(magnitude=2.0)) \n",
    "\n",
    "# run forward perdiction \n",
    "# TODO fill the mod.predict \n",
    "# check mod.predict\n",
    "out = mod.predict(eval_data=img_itr)\n",
    "print (out.asnumpy())"
   ]
  },
  {
   "cell_type": "code",
   "execution_count": null,
   "metadata": {
    "collapsed": true
   },
   "outputs": [],
   "source": [
    "print np.argmax(out.asnumpy(),axis=1)"
   ]
  },
  {
   "cell_type": "code",
   "execution_count": null,
   "metadata": {
    "collapsed": true
   },
   "outputs": [],
   "source": [
    "# 4 overfit small dataset \n",
    "# TODO fill all ???\n",
    "mod.init_optimizer('sgd', optimizer_params=(('learning_rate', .1), )) \n",
    "# run forward perdiction\n",
    "metric = mx.metric.create('acc')\n",
    "\n",
    "for epoch in range(5):\n",
    "    img_itr.reset()\n",
    "    metric.reset()\n",
    "    for batch in img_itr:\n",
    "        mod.forward(batch, is_train=True)\n",
    "        mod.update_metric(metric, batch.label)\n",
    "        mod.backward()\n",
    "        mod.update()\n",
    "    print ('Epoch {}, Train {}'.format(epoch, metric.get()))\n",
    "    # You should get 100% accuacy on these two images\n"
   ]
  },
  {
   "cell_type": "code",
   "execution_count": null,
   "metadata": {
    "collapsed": true
   },
   "outputs": [],
   "source": [
    "#5 (optional) train cifar10 on resnet(~epoch) if you have GPU. Build the training script from week2\n",
    "mod_cifar = mx.mod.Module(context=[mx.gpu(0)],\n",
    "                         symbol=sym,\n",
    "                         data_names=['data'],\n",
    "                         label_names=['label'])\n",
    "train.reset()\n",
    "val.reset()\n",
    "mod_cifar.fit(train_data=train,\n",
    "              eval_data=val,\n",
    "              num_epoch=16,\n",
    "              optimizer=, \n",
    "              optimizer_params={???}, \n",
    "              epoch_end_callback=mx.callback.do_checkpoint('resnet_cifar_10'),\n",
    "              initializer=mx.init.Xavier(rnd_type='gaussian', factor_type='in',magnitude=2),\n",
    "              batch_end_callback=[mx.callback.Speedometer(128, 1)], \n",
    "              eval_metric=['acc','ce'])"
   ]
  },
  {
   "cell_type": "code",
   "execution_count": null,
   "metadata": {
    "collapsed": true
   },
   "outputs": [],
   "source": [
    "# 6 (optional) Wild test on your model "
   ]
  },
  {
   "cell_type": "code",
   "execution_count": null,
   "metadata": {
    "collapsed": true
   },
   "outputs": [],
   "source": []
  }
 ],
 "metadata": {
  "kernelspec": {
   "display_name": "Python 3",
   "language": "python",
   "name": "python3"
  },
  "language_info": {
   "codemirror_mode": {
    "name": "ipython",
    "version": 3
   },
   "file_extension": ".py",
   "mimetype": "text/x-python",
   "name": "python",
   "nbconvert_exporter": "python",
   "pygments_lexer": "ipython3",
   "version": "3.5.4"
  }
 },
 "nbformat": 4,
 "nbformat_minor": 2
}
