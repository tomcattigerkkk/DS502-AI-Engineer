{
 "cells": [
  {
   "cell_type": "code",
   "execution_count": null,
   "metadata": {},
   "outputs": [],
   "source": [
    "import mxnet as mx \n",
    "import matplotlib.pyplot as plt \n",
    "import numpy as np\n",
    "%pylab inline\n",
    "pylab.rcParams['figure.figsize'] = (2, 3)"
   ]
  },
  {
   "cell_type": "code",
   "execution_count": null,
   "metadata": {},
   "outputs": [],
   "source": [
    "# Step 1 data\n",
    "# input data debug\n",
    "data_iter = mx.io.ImageRecordIter(\n",
    "    path_imgrec = 'data/cifar10_train.rec',\n",
    "    data_shape = (3,28,28),\n",
    "    label_width = 1,\n",
    "    batch_size = 128\n",
    ")\n",
    "print (data_iter)\n",
    "i = 0\n",
    "for each in data_iter:\n",
    "    i+=1\n",
    "    if i>5:\n",
    "        break\n",
    "    print each\n",
    "batch_numpy = each.data[0].asnumpy()\n",
    "label_numpy = each.label[0].asnumpy()\n",
    "print (type(batch_numpy))\n",
    "print (type(label_numpy))\n",
    "\n",
    "#show img\n",
    "randidx = np.random.randint(0,128)\n",
    "img = batch_numpy[randidx]\n",
    "img = np.squeeze(img).sum(axis=0)\n",
    "plt.imshow(img, cmap='gray')\n",
    "plt.show()"
   ]
  },
  {
   "cell_type": "code",
   "execution_count": null,
   "metadata": {
    "scrolled": false
   },
   "outputs": [],
   "source": [
    "# debug model\n",
    "from importlib import import_module\n",
    "net = import_module('symbols.'+'resnet')\n",
    "sym = net.get_symbol(10,20,\"3,28,28\")\n",
    "model_prefix = 'cifar10_resnet'\n",
    "#check_point = mx.callback.do_checkpoint(model_prefix)\n",
    "arg_name = sym.list_arguments()\n",
    "out_name = sym.list_outputs()\n",
    "print (arg_name)\n",
    "print (out_name)\n",
    "mx.viz.plot_network(sym,hide_weights=True,save_format='pdf',title='resnet8')"
   ]
  },
  {
   "cell_type": "code",
   "execution_count": null,
   "metadata": {
    "collapsed": true
   },
   "outputs": [],
   "source": []
  },
  {
   "cell_type": "code",
   "execution_count": null,
   "metadata": {
    "scrolled": true
   },
   "outputs": [],
   "source": []
  }
 ],
 "metadata": {
  "kernelspec": {
   "display_name": "Python 2",
   "language": "python",
   "name": "python2"
  },
  "language_info": {
   "codemirror_mode": {
    "name": "ipython",
    "version": 2
   },
   "file_extension": ".py",
   "mimetype": "text/x-python",
   "name": "python",
   "nbconvert_exporter": "python",
   "pygments_lexer": "ipython2",
   "version": "2.7.12"
  }
 },
 "nbformat": 4,
 "nbformat_minor": 2
}
